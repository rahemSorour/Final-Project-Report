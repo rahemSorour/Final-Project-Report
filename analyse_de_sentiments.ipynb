{
  "cells": [
    {
      "cell_type": "markdown",
      "metadata": {
        "id": "view-in-github",
        "colab_type": "text"
      },
      "source": [
        "<a href=\"https://colab.research.google.com/github/rahemSorour/Final-Project-Report/blob/main/analyse_de_sentiments.ipynb\" target=\"_parent\"><img src=\"https://colab.research.google.com/assets/colab-badge.svg\" alt=\"Open In Colab\"/></a>"
      ]
    },
    {
      "cell_type": "markdown",
      "metadata": {
        "id": "zPDMVK9XgnkG"
      },
      "source": [
        "***Importer la bibliothèque***"
      ]
    },
    {
      "cell_type": "code",
      "execution_count": null,
      "metadata": {
        "id": "yWYnXO2fguW4"
      },
      "outputs": [],
      "source": [
        "import re\n",
        "import numpy as np\n",
        "import pandas as pd\n",
        "from sklearn.model_selection import train_test_split\n",
        "import matplotlib.pyplot as plt\n",
        "from nltk.stem.wordnet import WordNetLemmatizer\n",
        "from keras.models import Sequential, load_model\n",
        "from keras.layers import Dense, LSTM, Embedding, Dropout\n",
        "from keras.preprocessing.text import Tokenizer\n",
        "from keras.preprocessing.sequence import pad_sequences"
      ]
    },
    {
      "cell_type": "markdown",
      "metadata": {
        "id": "Hb3bgYBggxaz"
      },
      "source": [
        "***Chargement de données***"
      ]
    },
    {
      "cell_type": "code",
      "execution_count": null,
      "metadata": {
        "colab": {
          "base_uri": "https://localhost:8080/",
          "height": 652
        },
        "id": "3pWbNEKSgyG9",
        "outputId": "aa4c53aa-2755-46f8-b4dd-070decaf1adb"
      },
      "outputs": [
        {
          "name": "stdout",
          "output_type": "stream",
          "text": [
            "(14640, 15)\n",
            "negative    9178\n",
            "neutral     3099\n",
            "positive    2363\n",
            "Name: airline_sentiment, dtype: int64\n",
            "negative    0.626913\n",
            "neutral     0.211680\n",
            "positive    0.161407\n",
            "Name: airline_sentiment, dtype: float64\n"
          ]
        },
        {
          "data": {
            "text/html": [
              "\n",
              "  <div id=\"df-dd1eb155-4e09-40d6-8504-a0b5b2f1fd78\">\n",
              "    <div class=\"colab-df-container\">\n",
              "      <div>\n",
              "<style scoped>\n",
              "    .dataframe tbody tr th:only-of-type {\n",
              "        vertical-align: middle;\n",
              "    }\n",
              "\n",
              "    .dataframe tbody tr th {\n",
              "        vertical-align: top;\n",
              "    }\n",
              "\n",
              "    .dataframe thead th {\n",
              "        text-align: right;\n",
              "    }\n",
              "</style>\n",
              "<table border=\"1\" class=\"dataframe\">\n",
              "  <thead>\n",
              "    <tr style=\"text-align: right;\">\n",
              "      <th></th>\n",
              "      <th>tweet_id</th>\n",
              "      <th>airline_sentiment</th>\n",
              "      <th>airline_sentiment_confidence</th>\n",
              "      <th>negativereason</th>\n",
              "      <th>negativereason_confidence</th>\n",
              "      <th>airline</th>\n",
              "      <th>airline_sentiment_gold</th>\n",
              "      <th>name</th>\n",
              "      <th>negativereason_gold</th>\n",
              "      <th>retweet_count</th>\n",
              "      <th>text</th>\n",
              "      <th>tweet_coord</th>\n",
              "      <th>tweet_created</th>\n",
              "      <th>tweet_location</th>\n",
              "      <th>user_timezone</th>\n",
              "    </tr>\n",
              "  </thead>\n",
              "  <tbody>\n",
              "    <tr>\n",
              "      <th>0</th>\n",
              "      <td>569376145000390656</td>\n",
              "      <td>negative</td>\n",
              "      <td>1.0000</td>\n",
              "      <td>Customer Service Issue</td>\n",
              "      <td>1.0000</td>\n",
              "      <td>United</td>\n",
              "      <td>NaN</td>\n",
              "      <td>tweets1971</td>\n",
              "      <td>NaN</td>\n",
              "      <td>0</td>\n",
              "      <td>@united we have tried to change our flight THR...</td>\n",
              "      <td>NaN</td>\n",
              "      <td>2015-02-21 22:00:26 -0800</td>\n",
              "      <td>Boston</td>\n",
              "      <td>NaN</td>\n",
              "    </tr>\n",
              "    <tr>\n",
              "      <th>1</th>\n",
              "      <td>568450017649778688</td>\n",
              "      <td>positive</td>\n",
              "      <td>1.0000</td>\n",
              "      <td>NaN</td>\n",
              "      <td>NaN</td>\n",
              "      <td>United</td>\n",
              "      <td>NaN</td>\n",
              "      <td>melanie_seibert</td>\n",
              "      <td>NaN</td>\n",
              "      <td>0</td>\n",
              "      <td>@united Joni did a great job on flight 5653 to...</td>\n",
              "      <td>NaN</td>\n",
              "      <td>2015-02-19 08:40:20 -0800</td>\n",
              "      <td>Texas</td>\n",
              "      <td>Central Time (US &amp; Canada)</td>\n",
              "    </tr>\n",
              "    <tr>\n",
              "      <th>2</th>\n",
              "      <td>569367682811715585</td>\n",
              "      <td>negative</td>\n",
              "      <td>0.6554</td>\n",
              "      <td>Can't Tell</td>\n",
              "      <td>0.6554</td>\n",
              "      <td>United</td>\n",
              "      <td>NaN</td>\n",
              "      <td>WM_j_MW</td>\n",
              "      <td>NaN</td>\n",
              "      <td>0</td>\n",
              "      <td>@united Suck</td>\n",
              "      <td>NaN</td>\n",
              "      <td>2015-02-21 21:26:48 -0800</td>\n",
              "      <td>Wake Forest, NC</td>\n",
              "      <td>Eastern Time (US &amp; Canada)</td>\n",
              "    </tr>\n",
              "    <tr>\n",
              "      <th>3</th>\n",
              "      <td>569706873525391360</td>\n",
              "      <td>negative</td>\n",
              "      <td>1.0000</td>\n",
              "      <td>Late Flight</td>\n",
              "      <td>0.7059</td>\n",
              "      <td>American</td>\n",
              "      <td>NaN</td>\n",
              "      <td>monumentsinking</td>\n",
              "      <td>NaN</td>\n",
              "      <td>0</td>\n",
              "      <td>.@AmericanAir Flight 654 Delayed / Flight 409 ...</td>\n",
              "      <td>NaN</td>\n",
              "      <td>2015-02-22 19:54:37 -0800</td>\n",
              "      <td>PDX JFK SFO BDL</td>\n",
              "      <td>Pacific Time (US &amp; Canada)</td>\n",
              "    </tr>\n",
              "    <tr>\n",
              "      <th>4</th>\n",
              "      <td>569234806543929344</td>\n",
              "      <td>negative</td>\n",
              "      <td>1.0000</td>\n",
              "      <td>Bad Flight</td>\n",
              "      <td>0.6617</td>\n",
              "      <td>US Airways</td>\n",
              "      <td>NaN</td>\n",
              "      <td>POnions</td>\n",
              "      <td>NaN</td>\n",
              "      <td>0</td>\n",
              "      <td>@USAirways  And now your half assed plane is f...</td>\n",
              "      <td>NaN</td>\n",
              "      <td>2015-02-21 12:38:48 -0800</td>\n",
              "      <td>CT, USA</td>\n",
              "      <td>Central Time (US &amp; Canada)</td>\n",
              "    </tr>\n",
              "  </tbody>\n",
              "</table>\n",
              "</div>\n",
              "      <button class=\"colab-df-convert\" onclick=\"convertToInteractive('df-dd1eb155-4e09-40d6-8504-a0b5b2f1fd78')\"\n",
              "              title=\"Convert this dataframe to an interactive table.\"\n",
              "              style=\"display:none;\">\n",
              "        \n",
              "  <svg xmlns=\"http://www.w3.org/2000/svg\" height=\"24px\"viewBox=\"0 0 24 24\"\n",
              "       width=\"24px\">\n",
              "    <path d=\"M0 0h24v24H0V0z\" fill=\"none\"/>\n",
              "    <path d=\"M18.56 5.44l.94 2.06.94-2.06 2.06-.94-2.06-.94-.94-2.06-.94 2.06-2.06.94zm-11 1L8.5 8.5l.94-2.06 2.06-.94-2.06-.94L8.5 2.5l-.94 2.06-2.06.94zm10 10l.94 2.06.94-2.06 2.06-.94-2.06-.94-.94-2.06-.94 2.06-2.06.94z\"/><path d=\"M17.41 7.96l-1.37-1.37c-.4-.4-.92-.59-1.43-.59-.52 0-1.04.2-1.43.59L10.3 9.45l-7.72 7.72c-.78.78-.78 2.05 0 2.83L4 21.41c.39.39.9.59 1.41.59.51 0 1.02-.2 1.41-.59l7.78-7.78 2.81-2.81c.8-.78.8-2.07 0-2.86zM5.41 20L4 18.59l7.72-7.72 1.47 1.35L5.41 20z\"/>\n",
              "  </svg>\n",
              "      </button>\n",
              "      \n",
              "  <style>\n",
              "    .colab-df-container {\n",
              "      display:flex;\n",
              "      flex-wrap:wrap;\n",
              "      gap: 12px;\n",
              "    }\n",
              "\n",
              "    .colab-df-convert {\n",
              "      background-color: #E8F0FE;\n",
              "      border: none;\n",
              "      border-radius: 50%;\n",
              "      cursor: pointer;\n",
              "      display: none;\n",
              "      fill: #1967D2;\n",
              "      height: 32px;\n",
              "      padding: 0 0 0 0;\n",
              "      width: 32px;\n",
              "    }\n",
              "\n",
              "    .colab-df-convert:hover {\n",
              "      background-color: #E2EBFA;\n",
              "      box-shadow: 0px 1px 2px rgba(60, 64, 67, 0.3), 0px 1px 3px 1px rgba(60, 64, 67, 0.15);\n",
              "      fill: #174EA6;\n",
              "    }\n",
              "\n",
              "    [theme=dark] .colab-df-convert {\n",
              "      background-color: #3B4455;\n",
              "      fill: #D2E3FC;\n",
              "    }\n",
              "\n",
              "    [theme=dark] .colab-df-convert:hover {\n",
              "      background-color: #434B5C;\n",
              "      box-shadow: 0px 1px 3px 1px rgba(0, 0, 0, 0.15);\n",
              "      filter: drop-shadow(0px 1px 2px rgba(0, 0, 0, 0.3));\n",
              "      fill: #FFFFFF;\n",
              "    }\n",
              "  </style>\n",
              "\n",
              "      <script>\n",
              "        const buttonEl =\n",
              "          document.querySelector('#df-dd1eb155-4e09-40d6-8504-a0b5b2f1fd78 button.colab-df-convert');\n",
              "        buttonEl.style.display =\n",
              "          google.colab.kernel.accessAllowed ? 'block' : 'none';\n",
              "\n",
              "        async function convertToInteractive(key) {\n",
              "          const element = document.querySelector('#df-dd1eb155-4e09-40d6-8504-a0b5b2f1fd78');\n",
              "          const dataTable =\n",
              "            await google.colab.kernel.invokeFunction('convertToInteractive',\n",
              "                                                     [key], {});\n",
              "          if (!dataTable) return;\n",
              "\n",
              "          const docLinkHtml = 'Like what you see? Visit the ' +\n",
              "            '<a target=\"_blank\" href=https://colab.research.google.com/notebooks/data_table.ipynb>data table notebook</a>'\n",
              "            + ' to learn more about interactive tables.';\n",
              "          element.innerHTML = '';\n",
              "          dataTable['output_type'] = 'display_data';\n",
              "          await google.colab.output.renderOutput(dataTable, element);\n",
              "          const docLink = document.createElement('div');\n",
              "          docLink.innerHTML = docLinkHtml;\n",
              "          element.appendChild(docLink);\n",
              "        }\n",
              "      </script>\n",
              "    </div>\n",
              "  </div>\n",
              "  "
            ],
            "text/plain": [
              "             tweet_id airline_sentiment  airline_sentiment_confidence  \\\n",
              "0  569376145000390656          negative                        1.0000   \n",
              "1  568450017649778688          positive                        1.0000   \n",
              "2  569367682811715585          negative                        0.6554   \n",
              "3  569706873525391360          negative                        1.0000   \n",
              "4  569234806543929344          negative                        1.0000   \n",
              "\n",
              "           negativereason  negativereason_confidence     airline  \\\n",
              "0  Customer Service Issue                     1.0000      United   \n",
              "1                     NaN                        NaN      United   \n",
              "2              Can't Tell                     0.6554      United   \n",
              "3             Late Flight                     0.7059    American   \n",
              "4              Bad Flight                     0.6617  US Airways   \n",
              "\n",
              "  airline_sentiment_gold             name negativereason_gold  retweet_count  \\\n",
              "0                    NaN       tweets1971                 NaN              0   \n",
              "1                    NaN  melanie_seibert                 NaN              0   \n",
              "2                    NaN          WM_j_MW                 NaN              0   \n",
              "3                    NaN  monumentsinking                 NaN              0   \n",
              "4                    NaN          POnions                 NaN              0   \n",
              "\n",
              "                                                text tweet_coord  \\\n",
              "0  @united we have tried to change our flight THR...         NaN   \n",
              "1  @united Joni did a great job on flight 5653 to...         NaN   \n",
              "2                                       @united Suck         NaN   \n",
              "3  .@AmericanAir Flight 654 Delayed / Flight 409 ...         NaN   \n",
              "4  @USAirways  And now your half assed plane is f...         NaN   \n",
              "\n",
              "               tweet_created   tweet_location               user_timezone  \n",
              "0  2015-02-21 22:00:26 -0800           Boston                         NaN  \n",
              "1  2015-02-19 08:40:20 -0800            Texas  Central Time (US & Canada)  \n",
              "2  2015-02-21 21:26:48 -0800  Wake Forest, NC  Eastern Time (US & Canada)  \n",
              "3  2015-02-22 19:54:37 -0800  PDX JFK SFO BDL  Pacific Time (US & Canada)  \n",
              "4  2015-02-21 12:38:48 -0800          CT, USA  Central Time (US & Canada)  "
            ]
          },
          "execution_count": 2,
          "metadata": {},
          "output_type": "execute_result"
        }
      ],
      "source": [
        "data = pd.read_csv('/content/Tweets.csv')\n",
        "data = data.sample(frac=1).reset_index(drop=True)\n",
        "print(data.shape)\n",
        "\n",
        "print(data['airline_sentiment'].value_counts())\n",
        "print(data['airline_sentiment'].value_counts(normalize=True))\n",
        "data.head()"
      ]
    },
    {
      "cell_type": "markdown",
      "metadata": {
        "id": "gqdN1N9Jg3Le"
      },
      "source": [
        "**Ne garder que les colonnes nécessaires**"
      ]
    },
    {
      "cell_type": "code",
      "execution_count": null,
      "metadata": {
        "colab": {
          "base_uri": "https://localhost:8080/",
          "height": 363
        },
        "id": "wa-J9q8Tg37d",
        "outputId": "7c8b57e5-346a-4892-f3f4-3aac9b98d286"
      },
      "outputs": [
        {
          "data": {
            "text/html": [
              "\n",
              "  <div id=\"df-5b12b688-822a-4bb3-ae27-56830c98f014\">\n",
              "    <div class=\"colab-df-container\">\n",
              "      <div>\n",
              "<style scoped>\n",
              "    .dataframe tbody tr th:only-of-type {\n",
              "        vertical-align: middle;\n",
              "    }\n",
              "\n",
              "    .dataframe tbody tr th {\n",
              "        vertical-align: top;\n",
              "    }\n",
              "\n",
              "    .dataframe thead th {\n",
              "        text-align: right;\n",
              "    }\n",
              "</style>\n",
              "<table border=\"1\" class=\"dataframe\">\n",
              "  <thead>\n",
              "    <tr style=\"text-align: right;\">\n",
              "      <th></th>\n",
              "      <th>airline_sentiment</th>\n",
              "      <th>text</th>\n",
              "    </tr>\n",
              "  </thead>\n",
              "  <tbody>\n",
              "    <tr>\n",
              "      <th>0</th>\n",
              "      <td>negative</td>\n",
              "      <td>@united we have tried to change our flight THR...</td>\n",
              "    </tr>\n",
              "    <tr>\n",
              "      <th>1</th>\n",
              "      <td>positive</td>\n",
              "      <td>@united Joni did a great job on flight 5653 to...</td>\n",
              "    </tr>\n",
              "    <tr>\n",
              "      <th>2</th>\n",
              "      <td>negative</td>\n",
              "      <td>@united Suck</td>\n",
              "    </tr>\n",
              "    <tr>\n",
              "      <th>3</th>\n",
              "      <td>negative</td>\n",
              "      <td>.@AmericanAir Flight 654 Delayed / Flight 409 ...</td>\n",
              "    </tr>\n",
              "    <tr>\n",
              "      <th>4</th>\n",
              "      <td>negative</td>\n",
              "      <td>@USAirways  And now your half assed plane is f...</td>\n",
              "    </tr>\n",
              "    <tr>\n",
              "      <th>5</th>\n",
              "      <td>positive</td>\n",
              "      <td>@USAirways thanks! It's hectic for everyone bu...</td>\n",
              "    </tr>\n",
              "    <tr>\n",
              "      <th>6</th>\n",
              "      <td>negative</td>\n",
              "      <td>@AmericanAir 250 I'm not sure if I'm rebooked ...</td>\n",
              "    </tr>\n",
              "    <tr>\n",
              "      <th>7</th>\n",
              "      <td>negative</td>\n",
              "      <td>@USAirways Why were we loaded onto the plane (...</td>\n",
              "    </tr>\n",
              "    <tr>\n",
              "      <th>8</th>\n",
              "      <td>negative</td>\n",
              "      <td>@SouthwestAir  over 15 minutes without talking...</td>\n",
              "    </tr>\n",
              "    <tr>\n",
              "      <th>9</th>\n",
              "      <td>negative</td>\n",
              "      <td>@united very missed daughter suppose to dpt OR...</td>\n",
              "    </tr>\n",
              "  </tbody>\n",
              "</table>\n",
              "</div>\n",
              "      <button class=\"colab-df-convert\" onclick=\"convertToInteractive('df-5b12b688-822a-4bb3-ae27-56830c98f014')\"\n",
              "              title=\"Convert this dataframe to an interactive table.\"\n",
              "              style=\"display:none;\">\n",
              "        \n",
              "  <svg xmlns=\"http://www.w3.org/2000/svg\" height=\"24px\"viewBox=\"0 0 24 24\"\n",
              "       width=\"24px\">\n",
              "    <path d=\"M0 0h24v24H0V0z\" fill=\"none\"/>\n",
              "    <path d=\"M18.56 5.44l.94 2.06.94-2.06 2.06-.94-2.06-.94-.94-2.06-.94 2.06-2.06.94zm-11 1L8.5 8.5l.94-2.06 2.06-.94-2.06-.94L8.5 2.5l-.94 2.06-2.06.94zm10 10l.94 2.06.94-2.06 2.06-.94-2.06-.94-.94-2.06-.94 2.06-2.06.94z\"/><path d=\"M17.41 7.96l-1.37-1.37c-.4-.4-.92-.59-1.43-.59-.52 0-1.04.2-1.43.59L10.3 9.45l-7.72 7.72c-.78.78-.78 2.05 0 2.83L4 21.41c.39.39.9.59 1.41.59.51 0 1.02-.2 1.41-.59l7.78-7.78 2.81-2.81c.8-.78.8-2.07 0-2.86zM5.41 20L4 18.59l7.72-7.72 1.47 1.35L5.41 20z\"/>\n",
              "  </svg>\n",
              "      </button>\n",
              "      \n",
              "  <style>\n",
              "    .colab-df-container {\n",
              "      display:flex;\n",
              "      flex-wrap:wrap;\n",
              "      gap: 12px;\n",
              "    }\n",
              "\n",
              "    .colab-df-convert {\n",
              "      background-color: #E8F0FE;\n",
              "      border: none;\n",
              "      border-radius: 50%;\n",
              "      cursor: pointer;\n",
              "      display: none;\n",
              "      fill: #1967D2;\n",
              "      height: 32px;\n",
              "      padding: 0 0 0 0;\n",
              "      width: 32px;\n",
              "    }\n",
              "\n",
              "    .colab-df-convert:hover {\n",
              "      background-color: #E2EBFA;\n",
              "      box-shadow: 0px 1px 2px rgba(60, 64, 67, 0.3), 0px 1px 3px 1px rgba(60, 64, 67, 0.15);\n",
              "      fill: #174EA6;\n",
              "    }\n",
              "\n",
              "    [theme=dark] .colab-df-convert {\n",
              "      background-color: #3B4455;\n",
              "      fill: #D2E3FC;\n",
              "    }\n",
              "\n",
              "    [theme=dark] .colab-df-convert:hover {\n",
              "      background-color: #434B5C;\n",
              "      box-shadow: 0px 1px 3px 1px rgba(0, 0, 0, 0.15);\n",
              "      filter: drop-shadow(0px 1px 2px rgba(0, 0, 0, 0.3));\n",
              "      fill: #FFFFFF;\n",
              "    }\n",
              "  </style>\n",
              "\n",
              "      <script>\n",
              "        const buttonEl =\n",
              "          document.querySelector('#df-5b12b688-822a-4bb3-ae27-56830c98f014 button.colab-df-convert');\n",
              "        buttonEl.style.display =\n",
              "          google.colab.kernel.accessAllowed ? 'block' : 'none';\n",
              "\n",
              "        async function convertToInteractive(key) {\n",
              "          const element = document.querySelector('#df-5b12b688-822a-4bb3-ae27-56830c98f014');\n",
              "          const dataTable =\n",
              "            await google.colab.kernel.invokeFunction('convertToInteractive',\n",
              "                                                     [key], {});\n",
              "          if (!dataTable) return;\n",
              "\n",
              "          const docLinkHtml = 'Like what you see? Visit the ' +\n",
              "            '<a target=\"_blank\" href=https://colab.research.google.com/notebooks/data_table.ipynb>data table notebook</a>'\n",
              "            + ' to learn more about interactive tables.';\n",
              "          element.innerHTML = '';\n",
              "          dataTable['output_type'] = 'display_data';\n",
              "          await google.colab.output.renderOutput(dataTable, element);\n",
              "          const docLink = document.createElement('div');\n",
              "          docLink.innerHTML = docLinkHtml;\n",
              "          element.appendChild(docLink);\n",
              "        }\n",
              "      </script>\n",
              "    </div>\n",
              "  </div>\n",
              "  "
            ],
            "text/plain": [
              "  airline_sentiment                                               text\n",
              "0          negative  @united we have tried to change our flight THR...\n",
              "1          positive  @united Joni did a great job on flight 5653 to...\n",
              "2          negative                                       @united Suck\n",
              "3          negative  .@AmericanAir Flight 654 Delayed / Flight 409 ...\n",
              "4          negative  @USAirways  And now your half assed plane is f...\n",
              "5          positive  @USAirways thanks! It's hectic for everyone bu...\n",
              "6          negative  @AmericanAir 250 I'm not sure if I'm rebooked ...\n",
              "7          negative  @USAirways Why were we loaded onto the plane (...\n",
              "8          negative  @SouthwestAir  over 15 minutes without talking...\n",
              "9          negative  @united very missed daughter suppose to dpt OR..."
            ]
          },
          "execution_count": 3,
          "metadata": {},
          "output_type": "execute_result"
        }
      ],
      "source": [
        "data = data[['airline_sentiment', 'text']]\n",
        "data.head(10)"
      ]
    },
    {
      "cell_type": "markdown",
      "metadata": {
        "id": "R27NVSUWg7SE"
      },
      "source": [
        "***Exploration de données***"
      ]
    },
    {
      "cell_type": "code",
      "execution_count": null,
      "metadata": {
        "colab": {
          "base_uri": "https://localhost:8080/",
          "height": 248
        },
        "id": "2fZA3DCwg-24",
        "outputId": "8f076ce3-42f2-4351-8c4c-12d1c6604c35"
      },
      "outputs": [
        {
          "data": {
            "image/png": "[encoded data removed]",
            "text/plain": [
              "<Figure size 432x288 with 1 Axes>"
            ]
          },
          "metadata": {},
          "output_type": "display_data"
        }
      ],
      "source": [
        "colors = [\"pink\", \"green\", \"purple\", \"orange\"]\n",
        "data['airline_sentiment'].value_counts().plot.pie( autopct='%1.1f%%', shadow=True,startangle=60, counterclock=False,colors=colors)\n",
        "plt.show()"
      ]
    },
    {
      "cell_type": "code",
      "execution_count": null,
      "metadata": {
        "colab": {
          "base_uri": "https://localhost:8080/",
          "height": 316
        },
        "id": "9LIqARfXhBfG",
        "outputId": "48713b99-63e8-496b-d313-3bb2fa90f45b"
      },
      "outputs": [
        {
          "data": {
            "text/plain": [
              "<matplotlib.axes._subplots.AxesSubplot at 0x7f5325cd9410>"
            ]
          },
          "execution_count": 5,
          "metadata": {},
          "output_type": "execute_result"
        },
        {
          "data": {
            "image/png": "[encoded data removed]",
            "text/plain": [
              "<Figure size 432x288 with 1 Axes>"
            ]
          },
          "metadata": {},
          "output_type": "display_data"
        }
      ],
      "source": [
        "data['airline_sentiment'].value_counts().sort_index().plot.bar()"
      ]
    },
    {
      "cell_type": "code",
      "execution_count": null,
      "metadata": {
        "colab": {
          "base_uri": "https://localhost:8080/",
          "height": 282
        },
        "id": "MPHJN_4hhGF3",
        "outputId": "484b97f5-d3b8-48f2-c766-1a4a4d8e9eb2"
      },
      "outputs": [
        {
          "data": {
            "text/plain": [
              "<matplotlib.axes._subplots.AxesSubplot at 0x7f5325792950>"
            ]
          },
          "execution_count": 6,
          "metadata": {},
          "output_type": "execute_result"
        },
        {
          "data": {
            "image/png": "[encoded data removed]",
            "text/plain": [
              "<Figure size 432x288 with 1 Axes>"
            ]
          },
          "metadata": {},
          "output_type": "display_data"
        }
      ],
      "source": [
        "data['text'].str.len().plot.hist()"
      ]
    },
    {
      "cell_type": "markdown",
      "metadata": {
        "id": "jozelmBs35LE"
      },
      "source": [
        "***Prétraitement***"
      ]
    },
    {
      "cell_type": "code",
      "execution_count": null,
      "metadata": {
        "colab": {
          "base_uri": "https://localhost:8080/"
        },
        "id": "RLmDlvq_huMN",
        "outputId": "af2e4f1d-99e8-4802-8648-7e2f32560da8"
      },
      "outputs": [
        {
          "data": {
            "text/plain": [
              "0    united we have tried to change our flight thre...\n",
              "1    united joni did a great job on flight 5653 to ...\n",
              "2                                          united suck\n",
              "3    americanair flight 654 delayed  flight 409 you...\n",
              "4    usairways  and now your half assed plane is fa...\n",
              "5    usairways thanks its hectic for everyone but t...\n",
              "6    americanair 250 im not sure if im rebooked now...\n",
              "7    usairways why were we loaded onto the plane 4 ...\n",
              "8    southwestair  over 15 minutes without talking ...\n",
              "9    united very missed daughter suppose to dpt ord...\n",
              "Name: text, dtype: object"
            ]
          },
          "execution_count": 4,
          "metadata": {},
          "output_type": "execute_result"
        }
      ],
      "source": [
        "data['text'] = data['text'].apply(lambda x: x.lower().strip())#transform text to lowercase\n",
        "data['text'] = data['text'].apply(lambda x: re.sub('(@[A-Za-z0-9]+)', '', x))\n",
        "data['text'] = data['text'].apply(lambda x: re.sub('[^a-zA-z0-9\\s]', '', x))\n",
        "data['text'] = data['text'].apply(lambda x: re.sub('(\\w+:\\/\\/S+)', '', x))\n",
        "data['text'] = data['text'].apply(lambda x: re.sub('(\\d+)', '', x))\n",
        "data['text'].head(10)\n"
      ]
    },
    {
      "cell_type": "code",
      "source": [
        "lemmatizer = WordNetLemmatizer()\n",
        "data['text'] =data['text'].apply(lambda x: lemmatizer.lemmatize(x))\n",
        "print(data['text'].head(50))"
      ],
      "metadata": {
        "id": "hKg3r0BkTz3r"
      },
      "execution_count": null,
      "outputs": []
    },
    {
      "cell_type": "code",
      "execution_count": null,
      "metadata": {
        "colab": {
          "base_uri": "https://localhost:8080/"
        },
        "id": "VbU5dc4oiBU3",
        "outputId": "5e3684ff-0ea9-47a8-c857-e5c93e4b491f"
      },
      "outputs": [
        {
          "data": {
            "text/plain": [
              "array([[   0,    0,    0,    0,    0,    0,    0,    0,    0,    0,    0,\n",
              "           0,    0,    0,    0,    5,   38,   22,  267,    1,  127,   53,\n",
              "           8,  482,  229,    9,    2,   97,   10,   92,  757,  610,   47],\n",
              "       [   0,    0,    0,    0,    0,    0,    0,    0,    0,    0,    0,\n",
              "           0,    0,    0,    0,    0,    0,    5, 6617,  115,    4,  114,\n",
              "         402,    9,    8, 6618,    1,  297,   36,    7,    4,  114,    8],\n",
              "       [   0,    0,    0,    0,    0,    0,    0,    0,    0,    0,    0,\n",
              "           0,    0,    0,    0,    0,    0,    0,    0,    0,    0,    0,\n",
              "           0,    0,    0,    0,    0,    0,    0,    0,    0,    5,  624],\n",
              "       [   0,    0,    0,    0,    0,    0,    0,    0,    0,    0,   13,\n",
              "           8, 3670,   77,    8, 6619,    6, 1257,   11,  144,    8, 6620,\n",
              "        2056,   19,   15,  573,    7,  482,   56,   36,    7,    2, 2723],\n",
              "       [   0,    0,    0,    0,    0,    0,    0,    0,    0,    0,    0,\n",
              "           0,    0,   12,   10,   39,   21,  464, 6621,   66,   14, 2724,\n",
              "        1916,  200,   74,  266,   11,  422,    3,  156,  155, 2725, 6622],\n",
              "       [   0,    0,    0,    0,    0,    0,    0,    0,    0,    0,    0,\n",
              "           0,    0,    0,    0,    0,    0,    0,   12,   36,   64, 6623,\n",
              "           7,  423,   31,  188, 2057,   85, 4604,    2,  413,  187, 3671],\n",
              "       [   0,    0,    0,    0,    0,   13, 2726,   48,   24,  218,   65,\n",
              "          48,  271,   39,   15,    4,  222,   27,  108,  110,    1,  171,\n",
              "          20,   52,    2,  375,    3,   34,   30,    1,  349,    2,  214],\n",
              "       [   0,    0,    0,    0,    0,    0,    0,    0,    0,    0,    0,\n",
              "           0,    0,   12,   69,  105,   38, 1371, 1054,    2,   66,  139,\n",
              "          56,   96,    8,  955,    6,  184,    1,  469,    7,  495,  137],\n",
              "       [   0,    0,    0,    0,    0,    0,    0,    0,    0,    0,    0,\n",
              "           0,    0,    0,   16,  101,  357,  137,  325, 1086,    1,    4,\n",
              "         634,   27,   57,  460,   76,    6, 2058,    3,   84,   13, 6624],\n",
              "       [   0,    0,    0,    0,    0,    0,    0,    0,    0,    0,    0,\n",
              "           0,    5,  150,  280, 1003, 1313,    1, 3098,  378, 6625, 6626,\n",
              "        6627,  298,  436, 3099,    7, 6628, 1694,  449,  119, 3099, 6629]],\n",
              "      dtype=int32)"
            ]
          },
          "execution_count": 5,
          "metadata": {},
          "output_type": "execute_result"
        }
      ],
      "source": [
        "tokenizer = Tokenizer(num_words=14640, split=\" \")\n",
        "tokenizer.fit_on_texts(data['text'].values)\n",
        "\n",
        "X = tokenizer.texts_to_sequences(data['text'].values)\n",
        "X = pad_sequences(X) # padding our text vector so they all have the same length\n",
        "X[:10]"
      ]
    },
    {
      "cell_type": "code",
      "execution_count": null,
      "metadata": {
        "colab": {
          "base_uri": "https://localhost:8080/"
        },
        "id": "d8gDMWKtiEd2",
        "outputId": "b8e95c4e-e063-4c51-ddd1-60f97e634a61"
      },
      "outputs": [
        {
          "name": "stdout",
          "output_type": "stream",
          "text": [
            "negative [1 0 0]\n",
            "positive [0 0 1]\n",
            "negative [1 0 0]\n",
            "negative [1 0 0]\n"
          ]
        },
        {
          "data": {
            "text/plain": [
              "[None, None, None, None]"
            ]
          },
          "execution_count": 6,
          "metadata": {},
          "output_type": "execute_result"
        }
      ],
      "source": [
        "y = pd.get_dummies(data['airline_sentiment']).values\n",
        "[print(data['airline_sentiment'][i], y[i]) for i in range(0,5)]"
      ]
    },
    {
      "cell_type": "code",
      "execution_count": null,
      "metadata": {
        "id": "FQz0F4wGiFW1"
      },
      "outputs": [],
      "source": [
        "X_train, X_test, y_train, y_test = train_test_split(X, y, test_size=0.2, random_state=0)"
      ]
    },
    {
      "cell_type": "markdown",
      "metadata": {
        "id": "QhSOfwyB4DKA"
      },
      "source": [
        " ***Création de modèle***"
      ]
    },
    {
      "cell_type": "code",
      "execution_count": null,
      "metadata": {
        "id": "gMNdZbpGiKqw"
      },
      "outputs": [],
      "source": [
        "model = Sequential()\n",
        "model.add(Embedding(14640, 256, input_length=X.shape[1]))\n",
        "model.add(Dropout(0.3))\n",
        "model.add(LSTM(256, return_sequences=True, dropout=0.3, recurrent_dropout=0.2))\n",
        "model.add(LSTM(256, dropout=0.3, recurrent_dropout=0.2))\n",
        "model.add(Dense(3, activation='softmax'))"
      ]
    },
    {
      "cell_type": "code",
      "execution_count": null,
      "metadata": {
        "colab": {
          "base_uri": "https://localhost:8080/"
        },
        "id": "0atbkdlBkaid",
        "outputId": "234163c3-237a-4dab-b8b8-cae27c2bcaef"
      },
      "outputs": [
        {
          "name": "stdout",
          "output_type": "stream",
          "text": [
            "Model: \"sequential_1\"\n",
            "_________________________________________________________________\n",
            " Layer (type)                Output Shape              Param #   \n",
            "=================================================================\n",
            " embedding_1 (Embedding)     (None, 33, 256)           3747840   \n",
            "                                                                 \n",
            " dropout_1 (Dropout)         (None, 33, 256)           0         \n",
            "                                                                 \n",
            " lstm_2 (LSTM)               (None, 33, 256)           525312    \n",
            "                                                                 \n",
            " lstm_3 (LSTM)               (None, 256)               525312    \n",
            "                                                                 \n",
            " dense_1 (Dense)             (None, 3)                 771       \n",
            "                                                                 \n",
            "=================================================================\n",
            "Total params: 4,799,235\n",
            "Trainable params: 4,799,235\n",
            "Non-trainable params: 0\n",
            "_________________________________________________________________\n"
          ]
        }
      ],
      "source": [
        "model.compile(loss='categorical_crossentropy', optimizer='adam', metrics=['accuracy'])\n",
        "model.summary()"
      ]
    },
    {
      "cell_type": "markdown",
      "metadata": {
        "id": "feLvWdZn4a8c"
      },
      "source": [
        "***Entraînement de model***"
      ]
    },
    {
      "cell_type": "code",
      "execution_count": null,
      "metadata": {
        "colab": {
          "background_save": true,
          "base_uri": "https://localhost:8080/"
        },
        "id": "3hZy1bqnkeiX",
        "outputId": "ed2cc953-f073-4908-e752-bbe98240b751"
      },
      "outputs": [
        {
          "name": "stdout",
          "output_type": "stream",
          "text": [
            "Epoch 1/10\n",
            "366/366 - 228s - loss: 0.6427 - accuracy: 0.7335 - 228s/epoch - 623ms/step\n",
            "Epoch 2/10\n",
            "366/366 - 222s - loss: 0.4049 - accuracy: 0.8474 - 222s/epoch - 607ms/step\n",
            "Epoch 3/10\n",
            "366/366 - 222s - loss: 0.2833 - accuracy: 0.8984 - 222s/epoch - 607ms/step\n",
            "Epoch 4/10\n",
            "366/366 - 222s - loss: 0.2011 - accuracy: 0.9277 - 222s/epoch - 608ms/step\n",
            "Epoch 5/10\n",
            "366/366 - 223s - loss: 0.1443 - accuracy: 0.9495 - 223s/epoch - 610ms/step\n",
            "Epoch 6/10\n",
            "366/366 - 225s - loss: 0.1081 - accuracy: 0.9641 - 225s/epoch - 615ms/step\n",
            "Epoch 7/10\n",
            "366/366 - 226s - loss: 0.0938 - accuracy: 0.9664 - 226s/epoch - 617ms/step\n",
            "Epoch 8/10\n",
            "366/366 - 230s - loss: 0.0772 - accuracy: 0.9735 - 230s/epoch - 628ms/step\n",
            "Epoch 9/10\n",
            "366/366 - 222s - loss: 0.0618 - accuracy: 0.9774 - 222s/epoch - 608ms/step\n",
            "Epoch 10/10\n",
            "366/366 - 225s - loss: 0.0579 - accuracy: 0.9810 - 225s/epoch - 615ms/step\n"
          ]
        }
      ],
      "source": [
        "batch_size = 32\n",
        "epochs = 10\n",
        "\n",
        "model_hist=model.fit(X_train, y_train, epochs=epochs, batch_size=batch_size,verbose=2)"
      ]
    },
    {
      "cell_type": "code",
      "execution_count": null,
      "metadata": {
        "colab": {
          "base_uri": "https://localhost:8080/"
        },
        "id": "SyOq2134krqp",
        "outputId": "79533e4a-1dbd-4392-94df-1d1831220798"
      },
      "outputs": [
        {
          "name": "stdout",
          "output_type": "stream",
          "text": [
            "46/46 - 5s - loss: 1.0470 - accuracy: 0.7746 - 5s/epoch - 99ms/step\n",
            "Test loss: 1.0470\n",
            "Test accuracy: 0.7746\n"
          ]
        }
      ],
      "source": [
        "#loss,acc=model.evaluate(X_test)\n",
        "#print(\"test accuracy :\",acc)\n",
        "loss, acc = model.evaluate(X_test, y_test, verbose=2)\n",
        "print('Test loss: %.4f' % loss)\n",
        "print('Test accuracy: %.4f' % acc)"
      ]
    },
    {
      "cell_type": "code",
      "execution_count": null,
      "metadata": {
        "colab": {
          "base_uri": "https://localhost:8080/"
        },
        "id": "0PZdoubMlDRt",
        "outputId": "a6999f3c-b7eb-4cd9-9686-67bd729bff21"
      },
      "outputs": [
        {
          "name": "stdout",
          "output_type": "stream",
          "text": [
            "dict_keys(['loss', 'accuracy'])\n"
          ]
        }
      ],
      "source": [
        "print(model_hist.history.keys())"
      ]
    },
    {
      "cell_type": "code",
      "execution_count": null,
      "metadata": {
        "colab": {
          "base_uri": "https://localhost:8080/",
          "height": 295
        },
        "id": "yOzKSkp1lG3G",
        "outputId": "5ce41211-6541-49cd-d82c-5e30ebc7532f"
      },
      "outputs": [
        {
          "data": {
            "image/png": "[encoded data removed]",
            "text/plain": [
              "<Figure size 432x288 with 1 Axes>"
            ]
          },
          "metadata": {},
          "output_type": "display_data"
        }
      ],
      "source": [
        "# summarize history for accuracy\n",
        "plt.plot(model_hist.history['accuracy'])\n",
        "plt.title('model accuracy')\n",
        "plt.ylabel('accuracy')\n",
        "plt.xlabel('epoch')\n",
        "plt.legend(['train', 'test'], loc='upper left')\n",
        "plt.show()"
      ]
    },
    {
      "cell_type": "code",
      "execution_count": null,
      "metadata": {
        "colab": {
          "base_uri": "https://localhost:8080/",
          "height": 295
        },
        "id": "Dqsvn9CglJX1",
        "outputId": "a2546693-358e-4e30-d6be-1e31eed1489f"
      },
      "outputs": [
        {
          "data": {
            "image/png": "[encoded data removed]",
            "text/plain": [
              "<Figure size 432x288 with 1 Axes>"
            ]
          },
          "metadata": {},
          "output_type": "display_data"
        }
      ],
      "source": [
        "# summarize history for loss\n",
        "plt.plot(model_hist.history['loss'])\n",
        "plt.title('model loss')\n",
        "plt.ylabel('loss')\n",
        "plt.xlabel('epoch')\n",
        "plt.legend(['train', 'test'], loc='upper left')\n",
        "plt.show()"
      ]
    },
    {
      "cell_type": "markdown",
      "metadata": {
        "id": "fksfWkKj4odX"
      },
      "source": [
        "***Test de model***"
      ]
    },
    {
      "cell_type": "code",
      "execution_count": null,
      "metadata": {
        "colab": {
          "base_uri": "https://localhost:8080/"
        },
        "id": "tVjZd9eblNxT",
        "outputId": "dd435191-4149-46ae-a50c-676397526ce0"
      },
      "outputs": [
        {
          "name": "stdout",
          "output_type": "stream",
          "text": [
            "americanair thanks for doing that but now its telling me to go to the airport and check in with an agentwhats up httptcopfsenjk5pw [0.06657861 0.08364379 0.8497776 ] [0 0 1]\n",
            "jetblue pdx to jfk was suuuuper hot [0.00546552 0.72365993 0.2708746 ] [1 0 0]\n",
            "southwestair when can i start flight booking problems for next years super bowl time help [9.99835253e-01 1.52480061e-04 1.22928295e-05] [1 0 0]\n",
            "united thanks for the 2hr delay and then no ground crew when we landed at least you didnt break my httptcogcwvfuopl2 [9.9997067e-01 2.8261820e-05 1.0333465e-06] [1 0 0]\n",
            "jetblue the pilot just stated that after 22 years of flying he has never experienced anything like this gettingoffplane [9.9945563e-01 5.2232156e-04 2.1990663e-05] [1 0 0]\n",
            "jetblue goodwill now at 12500  27000 x   fine   still want your new ceo to make a public apology to all passengers of flight 136 [9.9987829e-01 1.1668876e-04 4.9675245e-06] [1 0 0]\n",
            "united do you have an email address i can write my account to might be less likely to disappear [0.00354235 0.9892424  0.00721538] [0 1 0]\n",
            "southwestair redcarpet southwest companion pass would be great [9.9941981e-01 3.3554950e-04 2.4473236e-04] [0 1 0]\n",
            "united currently on standby to lax then it is a 2 hour ride to palm springs long day starting at a snowy 330 am in philly [0.6957702  0.09066842 0.21356139] [0 0 1]\n",
            "united denphx flight tomorrow cancelled flighted asked for overnight 2nite in laxsna told not without paying thats wrong [9.7453326e-01 2.4512133e-02 9.5457042e-04] [1 0 0]\n"
          ]
        },
        {
          "data": {
            "text/plain": [
              "[None, None, None, None, None, None, None, None, None, None]"
            ]
          },
          "execution_count": 17,
          "metadata": {},
          "output_type": "execute_result"
        }
      ],
      "source": [
        "predictions = model.predict(X_test)\n",
        "\n",
        "[print(data['text'][i], predictions[i], y_test[i]) for i in range(0, 10)]"
      ]
    },
    {
      "cell_type": "code",
      "execution_count": null,
      "metadata": {
        "colab": {
          "base_uri": "https://localhost:8080/"
        },
        "id": "FzqlZofblSP2",
        "outputId": "c33f16c6-b55b-4228-f595-2be35850ea42"
      },
      "outputs": [
        {
          "name": "stdout",
          "output_type": "stream",
          "text": [
            "Positive predictions: 461\n",
            "Neutral predictions: 543\n",
            "Negative predictions: 1924\n",
            "Real positive: 506\n",
            "Real neutral: 613\n",
            "Real negative: 1809\n"
          ]
        }
      ],
      "source": [
        "pos_count, neu_count, neg_count = 0, 0, 0\n",
        "real_pos, real_neu, real_neg = 0, 0, 0\n",
        "for i, prediction in enumerate(predictions):\n",
        "    if np.argmax(prediction)==2:\n",
        "        pos_count += 1\n",
        "    elif np.argmax(prediction)==1:\n",
        "        neu_count += 1\n",
        "    else:\n",
        "        neg_count += 1\n",
        "\n",
        "    if np.argmax(y_test[i])==2:\n",
        "        real_pos += 1\n",
        "    elif np.argmax(y_test[i])==1:\n",
        "        real_neu += 1\n",
        "    else:\n",
        "        real_neg +=1\n",
        "\n",
        "print('Positive predictions:', pos_count)\n",
        "print('Neutral predictions:', neu_count)\n",
        "print('Negative predictions:', neg_count)\n",
        "print('Real positive:', real_pos)\n",
        "print('Real neutral:', real_neu)\n",
        "print('Real negative:', real_neg)\n",
        "print(\"pos_acc\", real_pos/pos_count*100, \"%\")\n",
        "print(\"neg_acc\", real_neg/neg_count*100, \"%\")\n",
        "print(\"neg_acc\", real_neu/neu_count*100, \"%\")\n"
      ]
    }
  ],
  "metadata": {
    "accelerator": "TPU",
    "colab": {
      "provenance": [],
      "authorship_tag": "ABX9TyPJ5+V1EFxOjsCVRvxDo6Ii",
      "include_colab_link": true
    },
    "kernelspec": {
      "display_name": "Python 3",
      "name": "python3"
    },
    "language_info": {
      "name": "python"
    }
  },
  "nbformat": 4,
  "nbformat_minor": 0
}